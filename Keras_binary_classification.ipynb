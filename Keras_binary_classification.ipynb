{
  "nbformat": 4,
  "nbformat_minor": 0,
  "metadata": {
    "colab": {
      "name": "Keras binary classification.ipynb",
      "provenance": [],
      "collapsed_sections": [],
      "authorship_tag": "ABX9TyPOyjlxrMXUig8ZNJHZXAe8",
      "include_colab_link": true
    },
    "kernelspec": {
      "name": "python3",
      "display_name": "Python 3"
    },
    "language_info": {
      "name": "python"
    }
  },
  "cells": [
    {
      "cell_type": "markdown",
      "metadata": {
        "id": "view-in-github",
        "colab_type": "text"
      },
      "source": [
        "<a href=\"https://colab.research.google.com/github/ValdazoAmerico/Keras-binary-classification/blob/main/Keras_binary_classification.ipynb\" target=\"_parent\"><img src=\"https://colab.research.google.com/assets/colab-badge.svg\" alt=\"Open In Colab\"/></a>"
      ]
    },
    {
      "cell_type": "code",
      "metadata": {
        "id": "TdAPpheMiEjt"
      },
      "source": [
        "import numpy as np\n",
        "from random import randint\n",
        "from sklearn.utils import shuffle\n",
        "from sklearn.preprocessing import MinMaxScaler"
      ],
      "execution_count": 1,
      "outputs": []
    },
    {
      "cell_type": "code",
      "metadata": {
        "id": "ZTa6mdJsjdh4"
      },
      "source": [
        "train_labels = []\n",
        "train_samples = []"
      ],
      "execution_count": 2,
      "outputs": []
    },
    {
      "cell_type": "code",
      "metadata": {
        "id": "1SJDVLjTjff7"
      },
      "source": [
        "for i in range(50):\n",
        "  random_younger = randint(13,64)\n",
        "  train_samples.append(random_younger)\n",
        "  train_labels.append(1)\n",
        "\n",
        "  random_older = randint(65,100)\n",
        "  train_samples.append(random_older)\n",
        "  train_labels.append(0)\n",
        "\n",
        "for i in range(1000):\n",
        "  random_younger = randint(13,64)\n",
        "  train_samples.append(random_younger)\n",
        "  train_labels.append(0)\n",
        "\n",
        "  random_older = randint(65,100)\n",
        "  train_samples.append(random_older)\n",
        "  train_labels.append(1)"
      ],
      "execution_count": 3,
      "outputs": []
    },
    {
      "cell_type": "code",
      "metadata": {
        "colab": {
          "base_uri": "https://localhost:8080/"
        },
        "id": "Ybx-ZsrlkkmU",
        "outputId": "c9f34ee8-93d5-4d8b-9834-d72622a7391c"
      },
      "source": [
        "train_labels[:5]"
      ],
      "execution_count": 6,
      "outputs": [
        {
          "output_type": "execute_result",
          "data": {
            "text/plain": [
              "[1, 0, 1, 0, 1]"
            ]
          },
          "metadata": {},
          "execution_count": 6
        }
      ]
    },
    {
      "cell_type": "code",
      "metadata": {
        "id": "JW4FV0smknmy"
      },
      "source": [
        "train_labels = np.array(train_labels)\n",
        "train_samples = np.array(train_samples)\n",
        "\n",
        "train_labels, train_samples = shuffle(train_labels, train_samples)"
      ],
      "execution_count": 7,
      "outputs": []
    },
    {
      "cell_type": "code",
      "metadata": {
        "id": "1qUkCE5mk09j"
      },
      "source": [
        "scaler = MinMaxScaler(feature_range=(0,1))\n",
        "sacled_train_samples = scaler.fit_transform(train_samples.reshape(-1,1))"
      ],
      "execution_count": 8,
      "outputs": []
    },
    {
      "cell_type": "code",
      "metadata": {
        "colab": {
          "base_uri": "https://localhost:8080/"
        },
        "id": "Ad30Oj8-k9WY",
        "outputId": "8d06adb6-b53b-4182-e3e2-3fba8b99f232"
      },
      "source": [
        "sacled_train_samples[:5]"
      ],
      "execution_count": 10,
      "outputs": [
        {
          "output_type": "execute_result",
          "data": {
            "text/plain": [
              "array([[0.77011494],\n",
              "       [0.89655172],\n",
              "       [0.3908046 ],\n",
              "       [0.68965517],\n",
              "       [0.79310345]])"
            ]
          },
          "metadata": {},
          "execution_count": 10
        }
      ]
    },
    {
      "cell_type": "code",
      "metadata": {
        "id": "QH8VtyAYlEgm"
      },
      "source": [
        "import tensorflow as tf\n",
        "from tensorflow import keras\n",
        "from tensorflow.keras.models import Sequential\n",
        "from tensorflow.keras.layers import Activation, Dense\n",
        "from tensorflow.keras.optimizers import Adam\n",
        "from tensorflow.keras.metrics import categorical_crossentropy"
      ],
      "execution_count": 11,
      "outputs": []
    },
    {
      "cell_type": "code",
      "metadata": {
        "id": "PD75Om0xlTWJ"
      },
      "source": [
        "model = Sequential([\n",
        "                    Dense(units=16, input_shape=(1,), activation='relu'),\n",
        "                    Dense(units=32, activation='relu'),\n",
        "                    Dense(units=2, activation='softmax')\n",
        "])"
      ],
      "execution_count": 13,
      "outputs": []
    },
    {
      "cell_type": "code",
      "metadata": {
        "colab": {
          "base_uri": "https://localhost:8080/"
        },
        "id": "tGLJZhxbltPz",
        "outputId": "86d070ba-0f42-4ae6-fed5-e42bbc4f0c9d"
      },
      "source": [
        "model.summary()"
      ],
      "execution_count": 14,
      "outputs": [
        {
          "output_type": "stream",
          "name": "stdout",
          "text": [
            "Model: \"sequential\"\n",
            "_________________________________________________________________\n",
            " Layer (type)                Output Shape              Param #   \n",
            "=================================================================\n",
            " dense (Dense)               (None, 16)                32        \n",
            "                                                                 \n",
            " dense_1 (Dense)             (None, 32)                544       \n",
            "                                                                 \n",
            " dense_2 (Dense)             (None, 2)                 66        \n",
            "                                                                 \n",
            "=================================================================\n",
            "Total params: 642\n",
            "Trainable params: 642\n",
            "Non-trainable params: 0\n",
            "_________________________________________________________________\n"
          ]
        }
      ]
    },
    {
      "cell_type": "code",
      "metadata": {
        "id": "ErhFZDb8l5E4"
      },
      "source": [
        "model.compile(optimizer=Adam(learning_rate=0.0001), loss='sparse_categorical_crossentropy', metrics=['accuracy'])"
      ],
      "execution_count": 15,
      "outputs": []
    },
    {
      "cell_type": "code",
      "metadata": {
        "colab": {
          "base_uri": "https://localhost:8080/"
        },
        "id": "6gG5_ZU3mSyg",
        "outputId": "6485e1b2-4509-4f75-d3f0-0cd677f5fb9d"
      },
      "source": [
        "model.fit(x=sacled_train_samples, y=train_labels, validation_split=0.1, batch_size=10, shuffle=True, epochs=30, verbose=2)"
      ],
      "execution_count": 16,
      "outputs": [
        {
          "output_type": "stream",
          "name": "stdout",
          "text": [
            "Epoch 1/30\n",
            "189/189 - 1s - loss: 0.6527 - accuracy: 0.5397 - val_loss: 0.6401 - val_accuracy: 0.6095 - 1s/epoch - 6ms/step\n",
            "Epoch 2/30\n",
            "189/189 - 0s - loss: 0.6298 - accuracy: 0.6307 - val_loss: 0.6129 - val_accuracy: 0.7000 - 335ms/epoch - 2ms/step\n",
            "Epoch 3/30\n",
            "189/189 - 0s - loss: 0.6028 - accuracy: 0.7222 - val_loss: 0.5846 - val_accuracy: 0.7333 - 347ms/epoch - 2ms/step\n",
            "Epoch 4/30\n",
            "189/189 - 0s - loss: 0.5747 - accuracy: 0.7698 - val_loss: 0.5533 - val_accuracy: 0.8000 - 348ms/epoch - 2ms/step\n",
            "Epoch 5/30\n",
            "189/189 - 0s - loss: 0.5433 - accuracy: 0.8079 - val_loss: 0.5193 - val_accuracy: 0.8429 - 343ms/epoch - 2ms/step\n",
            "Epoch 6/30\n",
            "189/189 - 0s - loss: 0.5105 - accuracy: 0.8296 - val_loss: 0.4841 - val_accuracy: 0.8476 - 329ms/epoch - 2ms/step\n",
            "Epoch 7/30\n",
            "189/189 - 0s - loss: 0.4776 - accuracy: 0.8582 - val_loss: 0.4498 - val_accuracy: 0.8571 - 312ms/epoch - 2ms/step\n",
            "Epoch 8/30\n",
            "189/189 - 0s - loss: 0.4467 - accuracy: 0.8693 - val_loss: 0.4179 - val_accuracy: 0.8714 - 327ms/epoch - 2ms/step\n",
            "Epoch 9/30\n",
            "189/189 - 0s - loss: 0.4188 - accuracy: 0.8799 - val_loss: 0.3890 - val_accuracy: 0.8857 - 296ms/epoch - 2ms/step\n",
            "Epoch 10/30\n",
            "189/189 - 0s - loss: 0.3940 - accuracy: 0.8952 - val_loss: 0.3637 - val_accuracy: 0.8905 - 347ms/epoch - 2ms/step\n",
            "Epoch 11/30\n",
            "189/189 - 0s - loss: 0.3728 - accuracy: 0.8952 - val_loss: 0.3417 - val_accuracy: 0.9048 - 294ms/epoch - 2ms/step\n",
            "Epoch 12/30\n",
            "189/189 - 0s - loss: 0.3546 - accuracy: 0.9032 - val_loss: 0.3224 - val_accuracy: 0.9143 - 292ms/epoch - 2ms/step\n",
            "Epoch 13/30\n",
            "189/189 - 0s - loss: 0.3393 - accuracy: 0.9090 - val_loss: 0.3054 - val_accuracy: 0.9143 - 325ms/epoch - 2ms/step\n",
            "Epoch 14/30\n",
            "189/189 - 0s - loss: 0.3264 - accuracy: 0.9153 - val_loss: 0.2914 - val_accuracy: 0.9238 - 331ms/epoch - 2ms/step\n",
            "Epoch 15/30\n",
            "189/189 - 0s - loss: 0.3157 - accuracy: 0.9148 - val_loss: 0.2794 - val_accuracy: 0.9238 - 287ms/epoch - 2ms/step\n",
            "Epoch 16/30\n",
            "189/189 - 0s - loss: 0.3067 - accuracy: 0.9148 - val_loss: 0.2701 - val_accuracy: 0.9333 - 295ms/epoch - 2ms/step\n",
            "Epoch 17/30\n",
            "189/189 - 0s - loss: 0.2996 - accuracy: 0.9249 - val_loss: 0.2608 - val_accuracy: 0.9333 - 355ms/epoch - 2ms/step\n",
            "Epoch 18/30\n",
            "189/189 - 0s - loss: 0.2935 - accuracy: 0.9243 - val_loss: 0.2537 - val_accuracy: 0.9333 - 324ms/epoch - 2ms/step\n",
            "Epoch 19/30\n",
            "189/189 - 0s - loss: 0.2884 - accuracy: 0.9270 - val_loss: 0.2472 - val_accuracy: 0.9333 - 338ms/epoch - 2ms/step\n",
            "Epoch 20/30\n",
            "189/189 - 0s - loss: 0.2843 - accuracy: 0.9259 - val_loss: 0.2419 - val_accuracy: 0.9333 - 304ms/epoch - 2ms/step\n",
            "Epoch 21/30\n",
            "189/189 - 0s - loss: 0.2809 - accuracy: 0.9265 - val_loss: 0.2372 - val_accuracy: 0.9333 - 322ms/epoch - 2ms/step\n",
            "Epoch 22/30\n",
            "189/189 - 0s - loss: 0.2777 - accuracy: 0.9280 - val_loss: 0.2331 - val_accuracy: 0.9333 - 323ms/epoch - 2ms/step\n",
            "Epoch 23/30\n",
            "189/189 - 0s - loss: 0.2752 - accuracy: 0.9275 - val_loss: 0.2294 - val_accuracy: 0.9333 - 339ms/epoch - 2ms/step\n",
            "Epoch 24/30\n",
            "189/189 - 0s - loss: 0.2729 - accuracy: 0.9275 - val_loss: 0.2264 - val_accuracy: 0.9476 - 322ms/epoch - 2ms/step\n",
            "Epoch 25/30\n",
            "189/189 - 0s - loss: 0.2707 - accuracy: 0.9307 - val_loss: 0.2236 - val_accuracy: 0.9476 - 292ms/epoch - 2ms/step\n",
            "Epoch 26/30\n",
            "189/189 - 0s - loss: 0.2690 - accuracy: 0.9280 - val_loss: 0.2212 - val_accuracy: 0.9476 - 329ms/epoch - 2ms/step\n",
            "Epoch 27/30\n",
            "189/189 - 0s - loss: 0.2674 - accuracy: 0.9307 - val_loss: 0.2190 - val_accuracy: 0.9476 - 298ms/epoch - 2ms/step\n",
            "Epoch 28/30\n",
            "189/189 - 0s - loss: 0.2659 - accuracy: 0.9307 - val_loss: 0.2170 - val_accuracy: 0.9333 - 332ms/epoch - 2ms/step\n",
            "Epoch 29/30\n",
            "189/189 - 0s - loss: 0.2648 - accuracy: 0.9291 - val_loss: 0.2151 - val_accuracy: 0.9476 - 323ms/epoch - 2ms/step\n",
            "Epoch 30/30\n",
            "189/189 - 0s - loss: 0.2636 - accuracy: 0.9302 - val_loss: 0.2138 - val_accuracy: 0.9476 - 291ms/epoch - 2ms/step\n"
          ]
        },
        {
          "output_type": "execute_result",
          "data": {
            "text/plain": [
              "<keras.callbacks.History at 0x7f64b8f95890>"
            ]
          },
          "metadata": {},
          "execution_count": 16
        }
      ]
    },
    {
      "cell_type": "code",
      "metadata": {
        "id": "CWQWWxyjmfh2"
      },
      "source": [
        "test_labels = []\n",
        "test_samples = []\n",
        "for i in range(50):\n",
        "  random_younger = randint(13,64)\n",
        "  test_samples.append(random_younger)\n",
        "  test_labels.append(1)\n",
        "\n",
        "  random_older = randint(65,100)\n",
        "  test_samples.append(random_older)\n",
        "  test_labels.append(0)\n",
        "\n",
        "for i in range(1000):\n",
        "  random_younger = randint(13,64)\n",
        "  test_samples.append(random_younger)\n",
        "  test_labels.append(0)\n",
        "\n",
        "  random_older = randint(65,100)\n",
        "  test_samples.append(random_older)\n",
        "  test_labels.append(1)\n",
        "test_labels = np.array(test_labels)\n",
        "test_samples = np.array(test_samples)\n",
        "\n",
        "test_labels, test_samples = shuffle(test_labels, test_samples)"
      ],
      "execution_count": 20,
      "outputs": []
    },
    {
      "cell_type": "code",
      "metadata": {
        "id": "dK1Gu3iGnW83"
      },
      "source": [
        "scaled_test_samples = scaler.fit_transform(test_samples.reshape(-1,1))"
      ],
      "execution_count": 21,
      "outputs": []
    },
    {
      "cell_type": "code",
      "metadata": {
        "id": "xw82s4_FnJgS"
      },
      "source": [
        "predictions = model.predict(\n",
        "    x=scaled_test_samples,\n",
        "    batch_size=10,\n",
        "    verbose=0\n",
        ")"
      ],
      "execution_count": 22,
      "outputs": []
    },
    {
      "cell_type": "code",
      "metadata": {
        "colab": {
          "base_uri": "https://localhost:8080/"
        },
        "id": "Kg3rUzjMnjW-",
        "outputId": "377c0b46-3f0f-43cf-c4e2-c7ed397ab4b0"
      },
      "source": [
        "predictions[:5]"
      ],
      "execution_count": 24,
      "outputs": [
        {
          "output_type": "execute_result",
          "data": {
            "text/plain": [
              "array([[0.43770203, 0.562298  ],\n",
              "       [0.07493181, 0.9250682 ],\n",
              "       [0.96896106, 0.03103891],\n",
              "       [0.70282596, 0.29717407],\n",
              "       [0.96809065, 0.03190942]], dtype=float32)"
            ]
          },
          "metadata": {},
          "execution_count": 24
        }
      ]
    },
    {
      "cell_type": "code",
      "metadata": {
        "colab": {
          "base_uri": "https://localhost:8080/"
        },
        "id": "gqh02DevnkJ7",
        "outputId": "dfc167c4-7038-4d58-8231-693df948da13"
      },
      "source": [
        "rounded_predictions = np.argmax(predictions, axis=-1)\n",
        "rounded_predictions[:5]"
      ],
      "execution_count": 25,
      "outputs": [
        {
          "output_type": "execute_result",
          "data": {
            "text/plain": [
              "array([1, 1, 0, 0, 0])"
            ]
          },
          "metadata": {},
          "execution_count": 25
        }
      ]
    },
    {
      "cell_type": "code",
      "metadata": {
        "id": "cLWZs1f2ntBd"
      },
      "source": [
        "from sklearn.metrics import confusion_matrix\n",
        "import itertools\n",
        "import matplotlib.pyplot as plt\n"
      ],
      "execution_count": 26,
      "outputs": []
    },
    {
      "cell_type": "code",
      "metadata": {
        "id": "FNGoz7uun0Rp"
      },
      "source": [
        "cm = confusion_matrix(y_true=test_labels, y_pred=rounded_predictions)"
      ],
      "execution_count": 27,
      "outputs": []
    },
    {
      "cell_type": "code",
      "metadata": {
        "id": "8l2d6VZen5MD"
      },
      "source": [
        "def plot_confusion_matrix(cm, classes,\n",
        "                          normalize=False,\n",
        "                          title='Confusion matrix',\n",
        "                          cmap=plt.cm.Blues):\n",
        "    \"\"\"\n",
        "    This function prints and plots the confusion matrix.\n",
        "    Normalization can be applied by setting `normalize=True`.\n",
        "    \"\"\"\n",
        "    plt.imshow(cm, interpolation='nearest', cmap=cmap)\n",
        "    plt.title(title)\n",
        "    plt.colorbar()\n",
        "    tick_marks = np.arange(len(classes))\n",
        "    plt.xticks(tick_marks, classes, rotation=45)\n",
        "    plt.yticks(tick_marks, classes)\n",
        "\n",
        "    if normalize:\n",
        "        cm = cm.astype('float') / cm.sum(axis=1)[:, np.newaxis]\n",
        "        print(\"Normalized confusion matrix\")\n",
        "    else:\n",
        "        print('Confusion matrix, without normalization')\n",
        "\n",
        "    print(cm)\n",
        "\n",
        "    thresh = cm.max() / 2.\n",
        "    for i, j in itertools.product(range(cm.shape[0]), range(cm.shape[1])):\n",
        "        plt.text(j, i, cm[i, j],\n",
        "                 horizontalalignment=\"center\",\n",
        "                 color=\"white\" if cm[i, j] > thresh else \"black\")\n",
        "\n",
        "    plt.tight_layout()\n",
        "    plt.ylabel('True label')\n",
        "    plt.xlabel('Predicted label')\n"
      ],
      "execution_count": 29,
      "outputs": []
    },
    {
      "cell_type": "code",
      "metadata": {
        "id": "bFHxIrFdoHTG"
      },
      "source": [
        "cm_plot_labels = ['no_side_effects', 'had_side_effects']"
      ],
      "execution_count": 30,
      "outputs": []
    },
    {
      "cell_type": "code",
      "metadata": {
        "colab": {
          "base_uri": "https://localhost:8080/",
          "height": 362
        },
        "id": "Nos0eHofoSNn",
        "outputId": "fbccbd4d-e39d-4649-8abc-83e38290d55c"
      },
      "source": [
        "plot_confusion_matrix(cm=cm, classes=cm_plot_labels, title='Confusion matrix')"
      ],
      "execution_count": 31,
      "outputs": [
        {
          "output_type": "stream",
          "name": "stdout",
          "text": [
            "Confusion matrix, without normalization\n",
            "[[ 965   85]\n",
            " [  49 1001]]\n"
          ]
        },
        {
          "output_type": "display_data",
          "data": {
            "image/png": "[encoded data removed]",
            "text/plain": [
              "<Figure size 432x288 with 2 Axes>"
            ]
          },
          "metadata": {
            "needs_background": "light"
          }
        }
      ]
    },
    {
      "cell_type": "code",
      "metadata": {
        "id": "hS7KNuNaoWeW"
      },
      "source": [
        ""
      ],
      "execution_count": null,
      "outputs": []
    }
  ]
}